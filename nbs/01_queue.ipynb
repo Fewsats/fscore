{
 "cells": [
  {
   "cell_type": "markdown",
   "metadata": {},
   "source": [
    "# Task Queue\n",
    "\n",
    "> Simple async task queue with background worker and concurrency control"
   ]
  },
  {
   "cell_type": "code",
   "execution_count": null,
   "metadata": {},
   "outputs": [],
   "source": [
    "#| default_exp queue"
   ]
  },
  {
   "cell_type": "code",
   "execution_count": null,
   "metadata": {},
   "outputs": [],
   "source": [
    "#| hide\n",
    "from nbdev.showdoc import *"
   ]
  },
  {
   "cell_type": "markdown",
   "metadata": {},
   "source": [
    "## The Problem\n",
    "\n",
    "When handling HTTP requests that trigger long-running tasks:\n",
    "1. You want to return immediately (non-blocking)\n",
    "2. Process work in background\n",
    "3. Limit concurrent execution\n",
    "\n",
    "This is exactly what we need for scraping store data - we don't want to block the HTTP response while waiting for Playwright to finish."
   ]
  },
  {
   "cell_type": "code",
   "execution_count": null,
   "metadata": {},
   "outputs": [],
   "source": [
    "#| export\n",
    "import asyncio"
   ]
  },
  {
   "cell_type": "markdown",
   "metadata": {},
   "source": [
    "## Basic Queue Operations\n",
    "\n",
    "Python's `asyncio.Queue` is the foundation."
   ]
  },
  {
   "cell_type": "code",
   "execution_count": null,
   "metadata": {},
   "outputs": [],
   "source": [
    "# Create a queue\n",
    "q = asyncio.Queue()\n",
    "\n",
    "# Put items (non-blocking when no maxsize)\n",
    "await q.put(\"task1\")\n",
    "await q.put(\"task2\")\n",
    "\n",
    "assert q.qsize() == 2"
   ]
  },
  {
   "cell_type": "code",
   "execution_count": null,
   "metadata": {},
   "outputs": [],
   "source": [
    "# Get items (blocks until available)\n",
    "item = await q.get()\n",
    "assert item == \"task1\""
   ]
  },
  {
   "cell_type": "markdown",
   "metadata": {},
   "source": [
    "## Semaphore for Concurrency Limiting\n",
    "\n",
    "A semaphore limits how many operations run concurrently."
   ]
  },
  {
   "cell_type": "code",
   "execution_count": null,
   "metadata": {},
   "outputs": [],
   "source": [
    "# Allow max 2 concurrent tasks\n",
    "sem = asyncio.Semaphore(2)\n",
    "\n",
    "count = 0\n",
    "\n",
    "async def task():\n",
    "    global count\n",
    "    async with sem:  # Blocks if 2 tasks already running\n",
    "        count += 1\n",
    "        await asyncio.sleep(0.1)\n",
    "\n",
    "# Start 5 tasks - only 2 run at once\n",
    "await asyncio.gather(*[task() for _ in range(5)])\n",
    "assert count == 5"
   ]
  },
  {
   "cell_type": "markdown",
   "metadata": {},
   "source": [
    "## The Pattern: Background Worker\n",
    "\n",
    "This is the core pattern from our main.py:"
   ]
  },
  {
   "cell_type": "code",
   "execution_count": null,
   "metadata": {},
   "outputs": [],
   "source": "#| export\nclass TaskQueue:\n    def __init__(self, max_workers, handler):\n        self.max_workers = max_workers\n        self.handler = handler\n        self.Q = asyncio.Queue()\n        self.SEM = asyncio.Semaphore(max_workers)\n    \n    async def start(self):\n        \"\"\"Start background worker that processes tasks from queue\"\"\"\n        async def worker():\n            while True:\n                task_data = await self.Q.get()\n                asyncio.create_task(self._guarded_execute(task_data))\n        asyncio.create_task(worker())\n    \n    async def _guarded_execute(self, task_data):\n        \"\"\"Execute handler with semaphore guard to limit concurrency\"\"\"\n        async with self.SEM:\n            await self.handler(*task_data)\n    \n    async def enqueue(self, *args):\n        \"\"\"Add task to queue\"\"\"\n        await self.Q.put(args)"
  },
  {
   "cell_type": "markdown",
   "metadata": {},
   "source": [
    "### Test it"
   ]
  },
  {
   "cell_type": "code",
   "execution_count": null,
   "metadata": {},
   "outputs": [],
   "source": "results = []\n\nasync def my_handler(x, y):\n    await asyncio.sleep(0.01)\n    results.append(x + y)\n\n# Create queue with handler\ntq = TaskQueue(max_workers=2, handler=my_handler)\n\n# Start worker\nawait tq.start()\n\n# Enqueue tasks (non-blocking)\nawait tq.enqueue(1, 2)\nawait tq.enqueue(3, 4)\nawait tq.enqueue(5, 6)\n\n# Wait for processing\nawait asyncio.sleep(0.1)\n\nassert results == [3, 7, 11]"
  },
  {
   "cell_type": "markdown",
   "metadata": {},
   "source": [
    "## Usage\n",
    "\n",
    "Here's how you use it in your FastAPI app:"
   ]
  },
  {
   "cell_type": "code",
   "execution_count": null,
   "metadata": {},
   "outputs": [],
   "source": "# In your app:\n# task_queue = TaskQueue(max_workers=3, handler=process_user_data)\n#\n# @app.on_event(\"startup\")\n# async def startup():\n#     await task_queue.start()\n#\n# @app.post('/v0/user/data')\n# async def user_data(...):\n#     task = tasks.insert(...)\n#     await task_queue.enqueue(task.id, email, password, store)\n#     return {'id': task.id, 'status': 'queued'}"
  },
  {
   "cell_type": "code",
   "execution_count": null,
   "metadata": {},
   "outputs": [],
   "source": [
    "#| hide\n",
    "import nbdev; nbdev.nbdev_export()"
   ]
  }
 ],
 "metadata": {
  "kernelspec": {
   "display_name": "python3",
   "language": "python",
   "name": "python3"
  }
 },
 "nbformat": 4,
 "nbformat_minor": 4
}
